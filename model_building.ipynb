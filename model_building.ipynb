{
 "cells": [
  {
   "cell_type": "code",
   "execution_count": null,
   "id": "e8f40b7b",
   "metadata": {},
   "outputs": [],
   "source": [
    "import pandas as pd\n",
    "import numpy as np\n",
    "import matplotlib.pyplot as plt\n",
    "import seaborn as sns\n",
    "\n",
    "from sklearn.model_selection import train_test_split\n",
    "from sklearn.preprocessing import LabelEncoder, OneHotEncoder, StandardScaler\n",
    "from sklearn.compose import ColumnTransformer\n",
    "from sklearn.pipeline import Pipeline\n",
    "from sklearn.impute import SimpleImputer\n",
    "from sklearn.metrics import accuracy_score, classification_report, confusion_matrix\n",
    "from sklearn.ensemble import RandomForestClassifier, GradientBoostingClassifier\n",
    "from sklearn.neighbors import KNeighborsClassifier"
   ]
  },
  {
   "cell_type": "code",
   "execution_count": 2,
   "id": "f8727ee0",
   "metadata": {},
   "outputs": [
    {
     "name": "stdout",
     "output_type": "stream",
     "text": [
      "<class 'pandas.core.frame.DataFrame'>\n",
      "Index: 257027 entries, 0 to 257634\n",
      "Data columns (total 15 columns):\n",
      " #   Column                                             Non-Null Count   Dtype  \n",
      "---  ------                                             --------------   -----  \n",
      " 0   County                                             257027 non-null  object \n",
      " 1   City                                               257027 non-null  object \n",
      " 2   Postal Code                                        257027 non-null  float64\n",
      " 3   Model Year                                         257027 non-null  int64  \n",
      " 4   Make                                               257027 non-null  object \n",
      " 5   Model                                              257027 non-null  object \n",
      " 6   Electric Vehicle Type                              257027 non-null  object \n",
      " 7   Clean Alternative Fuel Vehicle (CAFV) Eligibility  257027 non-null  object \n",
      " 8   Electric Range                                     257027 non-null  float64\n",
      " 9   Base MSRP                                          257027 non-null  float64\n",
      " 10  Legislative District                               257027 non-null  float64\n",
      " 11  DOL Vehicle ID                                     257027 non-null  int64  \n",
      " 12  Vehicle Location                                   257027 non-null  object \n",
      " 13  Electric Utility                                   257027 non-null  object \n",
      " 14  2020 Census Tract                                  257027 non-null  float64\n",
      "dtypes: float64(5), int64(2), object(8)\n",
      "memory usage: 31.4+ MB\n"
     ]
    }
   ],
   "source": [
    "evp_data = pd.read_csv('evp_data.csv')\n",
    "\n",
    "# Removing missing values less than 5% of the total values\n",
    "\n",
    "threshold = len(evp_data) * 0.05\n",
    "\n",
    "cols_to_drop = evp_data.columns[evp_data.isna().sum() <= threshold]\n",
    "\n",
    "evp_data.dropna(subset=cols_to_drop, inplace=True)\n",
    "\n",
    "evp_data = evp_data.drop(columns= [\"VIN (1-10)\", \"State\"])\n",
    "\n",
    "evp_data.info()"
   ]
  },
  {
   "cell_type": "code",
   "execution_count": 4,
   "id": "98a7c878",
   "metadata": {},
   "outputs": [
    {
     "name": "stdout",
     "output_type": "stream",
     "text": [
      "County                                                39\n",
      "City                                                 486\n",
      "Make                                                  46\n",
      "Model                                                179\n",
      "Electric Vehicle Type                                  2\n",
      "Clean Alternative Fuel Vehicle (CAFV) Eligibility      3\n",
      "Vehicle Location                                     566\n",
      "Electric Utility                                      75\n",
      "dtype: int64\n"
     ]
    }
   ],
   "source": [
    "print(evp_data.select_dtypes(include='object').nunique())"
   ]
  },
  {
   "cell_type": "code",
   "execution_count": 5,
   "id": "d1d6adde",
   "metadata": {},
   "outputs": [
    {
     "name": "stdout",
     "output_type": "stream",
     "text": [
      "<class 'pandas.core.frame.DataFrame'>\n",
      "Index: 257027 entries, 0 to 257634\n",
      "Data columns (total 15 columns):\n",
      " #   Column             Non-Null Count   Dtype  \n",
      "---  ------             --------------   -----  \n",
      " 0   County             257027 non-null  object \n",
      " 1   City               257027 non-null  object \n",
      " 2   Postal Code        257027 non-null  float64\n",
      " 3   Model Year         257027 non-null  int64  \n",
      " 4   Make               257027 non-null  object \n",
      " 5   Model              257027 non-null  object \n",
      " 6   EV Type            257027 non-null  object \n",
      " 7   CAFV               257027 non-null  object \n",
      " 8   Electric Range     257027 non-null  float64\n",
      " 9   Base MSRP          257027 non-null  float64\n",
      " 10  LD                 257027 non-null  float64\n",
      " 11  DOL Vehicle ID     257027 non-null  int64  \n",
      " 12  VL                 257027 non-null  object \n",
      " 13  EU                 257027 non-null  object \n",
      " 14  2020 Census Tract  257027 non-null  float64\n",
      "dtypes: float64(5), int64(2), object(8)\n",
      "memory usage: 31.4+ MB\n"
     ]
    }
   ],
   "source": [
    "evp_data = evp_data.rename(columns= {\n",
    "    'Electric Vehicle Type' : 'EV Type',\n",
    "    'Clean Alternative Fuel Vehicle (CAFV) Eligibility' : 'CAFV',\n",
    "    'Electric Utility' : 'EU',\n",
    "    'Vehicle Location' : 'VL',\n",
    "    'Legislative District' : 'LD'\n",
    "})\n",
    "\n",
    "evp_data.info()"
   ]
  },
  {
   "cell_type": "code",
   "execution_count": 6,
   "id": "969be459",
   "metadata": {},
   "outputs": [
    {
     "data": {
      "text/html": [
       "<div>\n",
       "<style scoped>\n",
       "    .dataframe tbody tr th:only-of-type {\n",
       "        vertical-align: middle;\n",
       "    }\n",
       "\n",
       "    .dataframe tbody tr th {\n",
       "        vertical-align: top;\n",
       "    }\n",
       "\n",
       "    .dataframe thead th {\n",
       "        text-align: right;\n",
       "    }\n",
       "</style>\n",
       "<table border=\"1\" class=\"dataframe\">\n",
       "  <thead>\n",
       "    <tr style=\"text-align: right;\">\n",
       "      <th></th>\n",
       "      <th>County</th>\n",
       "      <th>City</th>\n",
       "      <th>Postal Code</th>\n",
       "      <th>Model Year</th>\n",
       "      <th>Make</th>\n",
       "      <th>Model</th>\n",
       "      <th>EV Type</th>\n",
       "      <th>CAFV</th>\n",
       "      <th>Electric Range</th>\n",
       "      <th>Base MSRP</th>\n",
       "      <th>LD</th>\n",
       "      <th>DOL Vehicle ID</th>\n",
       "      <th>VL</th>\n",
       "      <th>EU</th>\n",
       "      <th>2020 Census Tract</th>\n",
       "    </tr>\n",
       "  </thead>\n",
       "  <tbody>\n",
       "    <tr>\n",
       "      <th>0</th>\n",
       "      <td>Yakima</td>\n",
       "      <td>Yakima</td>\n",
       "      <td>98901.0</td>\n",
       "      <td>2019</td>\n",
       "      <td>TESLA</td>\n",
       "      <td>MODEL 3</td>\n",
       "      <td>Battery Electric Vehicle (BEV)</td>\n",
       "      <td>Clean Alternative Fuel Vehicle Eligible</td>\n",
       "      <td>220.0</td>\n",
       "      <td>0.0</td>\n",
       "      <td>15.0</td>\n",
       "      <td>347724772</td>\n",
       "      <td>POINT (-120.50729 46.60464)</td>\n",
       "      <td>PACIFICORP</td>\n",
       "      <td>5.307700e+10</td>\n",
       "    </tr>\n",
       "    <tr>\n",
       "      <th>1</th>\n",
       "      <td>Kitsap</td>\n",
       "      <td>Port Orchard</td>\n",
       "      <td>98367.0</td>\n",
       "      <td>2024</td>\n",
       "      <td>JEEP</td>\n",
       "      <td>WRANGLER</td>\n",
       "      <td>Plug-in Hybrid Electric Vehicle (PHEV)</td>\n",
       "      <td>Not eligible due to low battery range</td>\n",
       "      <td>21.0</td>\n",
       "      <td>0.0</td>\n",
       "      <td>35.0</td>\n",
       "      <td>272165288</td>\n",
       "      <td>POINT (-122.68471 47.50524)</td>\n",
       "      <td>PUGET SOUND ENERGY INC</td>\n",
       "      <td>5.303509e+10</td>\n",
       "    </tr>\n",
       "  </tbody>\n",
       "</table>\n",
       "</div>"
      ],
      "text/plain": [
       "   County          City  Postal Code  Model Year   Make     Model  \\\n",
       "0  Yakima        Yakima      98901.0        2019  TESLA   MODEL 3   \n",
       "1  Kitsap  Port Orchard      98367.0        2024   JEEP  WRANGLER   \n",
       "\n",
       "                                  EV Type  \\\n",
       "0          Battery Electric Vehicle (BEV)   \n",
       "1  Plug-in Hybrid Electric Vehicle (PHEV)   \n",
       "\n",
       "                                      CAFV  Electric Range  Base MSRP    LD  \\\n",
       "0  Clean Alternative Fuel Vehicle Eligible           220.0        0.0  15.0   \n",
       "1    Not eligible due to low battery range            21.0        0.0  35.0   \n",
       "\n",
       "   DOL Vehicle ID                           VL                      EU  \\\n",
       "0       347724772  POINT (-120.50729 46.60464)              PACIFICORP   \n",
       "1       272165288  POINT (-122.68471 47.50524)  PUGET SOUND ENERGY INC   \n",
       "\n",
       "   2020 Census Tract  \n",
       "0       5.307700e+10  \n",
       "1       5.303509e+10  "
      ]
     },
     "execution_count": 6,
     "metadata": {},
     "output_type": "execute_result"
    }
   ],
   "source": [
    "evp_data.head(2)"
   ]
  },
  {
   "cell_type": "code",
   "execution_count": 8,
   "id": "6cb13bd4",
   "metadata": {},
   "outputs": [
    {
     "data": {
      "text/plain": [
       "EV Type\n",
       "Battery Electric Vehicle (BEV)            204660\n",
       "Plug-in Hybrid Electric Vehicle (PHEV)     52367\n",
       "Name: count, dtype: int64"
      ]
     },
     "execution_count": 8,
     "metadata": {},
     "output_type": "execute_result"
    }
   ],
   "source": [
    "evp_data[\"EV Type\"].value_counts()"
   ]
  },
  {
   "cell_type": "code",
   "execution_count": 9,
   "id": "e713eca6",
   "metadata": {},
   "outputs": [
    {
     "data": {
      "text/html": [
       "<div>\n",
       "<style scoped>\n",
       "    .dataframe tbody tr th:only-of-type {\n",
       "        vertical-align: middle;\n",
       "    }\n",
       "\n",
       "    .dataframe tbody tr th {\n",
       "        vertical-align: top;\n",
       "    }\n",
       "\n",
       "    .dataframe thead th {\n",
       "        text-align: right;\n",
       "    }\n",
       "</style>\n",
       "<table border=\"1\" class=\"dataframe\">\n",
       "  <thead>\n",
       "    <tr style=\"text-align: right;\">\n",
       "      <th></th>\n",
       "      <th>County</th>\n",
       "      <th>City</th>\n",
       "      <th>Postal Code</th>\n",
       "      <th>Model Year</th>\n",
       "      <th>Make</th>\n",
       "      <th>Model</th>\n",
       "      <th>EV Type</th>\n",
       "      <th>CAFV</th>\n",
       "      <th>Electric Range</th>\n",
       "      <th>Base MSRP</th>\n",
       "      <th>LD</th>\n",
       "      <th>DOL Vehicle ID</th>\n",
       "      <th>VL</th>\n",
       "      <th>EU</th>\n",
       "      <th>2020 Census Tract</th>\n",
       "    </tr>\n",
       "  </thead>\n",
       "  <tbody>\n",
       "    <tr>\n",
       "      <th>0</th>\n",
       "      <td>Yakima</td>\n",
       "      <td>Yakima</td>\n",
       "      <td>98901.0</td>\n",
       "      <td>2019</td>\n",
       "      <td>TESLA</td>\n",
       "      <td>MODEL 3</td>\n",
       "      <td>1</td>\n",
       "      <td>Clean Alternative Fuel Vehicle Eligible</td>\n",
       "      <td>220.0</td>\n",
       "      <td>0.0</td>\n",
       "      <td>15.0</td>\n",
       "      <td>347724772</td>\n",
       "      <td>POINT (-120.50729 46.60464)</td>\n",
       "      <td>PACIFICORP</td>\n",
       "      <td>5.307700e+10</td>\n",
       "    </tr>\n",
       "    <tr>\n",
       "      <th>1</th>\n",
       "      <td>Kitsap</td>\n",
       "      <td>Port Orchard</td>\n",
       "      <td>98367.0</td>\n",
       "      <td>2024</td>\n",
       "      <td>JEEP</td>\n",
       "      <td>WRANGLER</td>\n",
       "      <td>0</td>\n",
       "      <td>Not eligible due to low battery range</td>\n",
       "      <td>21.0</td>\n",
       "      <td>0.0</td>\n",
       "      <td>35.0</td>\n",
       "      <td>272165288</td>\n",
       "      <td>POINT (-122.68471 47.50524)</td>\n",
       "      <td>PUGET SOUND ENERGY INC</td>\n",
       "      <td>5.303509e+10</td>\n",
       "    </tr>\n",
       "  </tbody>\n",
       "</table>\n",
       "</div>"
      ],
      "text/plain": [
       "   County          City  Postal Code  Model Year   Make     Model  EV Type  \\\n",
       "0  Yakima        Yakima      98901.0        2019  TESLA   MODEL 3        1   \n",
       "1  Kitsap  Port Orchard      98367.0        2024   JEEP  WRANGLER        0   \n",
       "\n",
       "                                      CAFV  Electric Range  Base MSRP    LD  \\\n",
       "0  Clean Alternative Fuel Vehicle Eligible           220.0        0.0  15.0   \n",
       "1    Not eligible due to low battery range            21.0        0.0  35.0   \n",
       "\n",
       "   DOL Vehicle ID                           VL                      EU  \\\n",
       "0       347724772  POINT (-120.50729 46.60464)              PACIFICORP   \n",
       "1       272165288  POINT (-122.68471 47.50524)  PUGET SOUND ENERGY INC   \n",
       "\n",
       "   2020 Census Tract  \n",
       "0       5.307700e+10  \n",
       "1       5.303509e+10  "
      ]
     },
     "execution_count": 9,
     "metadata": {},
     "output_type": "execute_result"
    }
   ],
   "source": [
    "evp_data[\"EV Type\"] = np.where(evp_data[\"EV Type\"] == 'Battery Electric Vehicle (BEV)', 1, 0)\n",
    "\n",
    "evp_data.head(2)"
   ]
  },
  {
   "cell_type": "code",
   "execution_count": 10,
   "id": "ea3e0bf6",
   "metadata": {},
   "outputs": [],
   "source": [
    "# Random State\n",
    "\n",
    "rv = 12"
   ]
  },
  {
   "cell_type": "code",
   "execution_count": 12,
   "id": "3a395720",
   "metadata": {},
   "outputs": [],
   "source": [
    "X = evp_data.drop(columns=['EV Type', 'DOL Vehicle ID', 'VL'])\n",
    "y = evp_data[\"EV Type\"]\n",
    "\n",
    "# Select categorical and numeric column\n",
    "\n",
    "categorical_col = [\"County\", \"City\", \"Make\", \"Model\", \"CAFV\", \"EU\"]\n",
    "numeric = [\"Model Year\", \"Electric Range\", \"Base MSRP\", \"Postal Code\", \"LD\", \"2020 Census Tract\"]\n",
    "\n",
    "# Preprocessor\n",
    "\n",
    "preprocessor = ColumnTransformer(\n",
    "    transformers= [\n",
    "        (\"num\", StandardScaler(), numeric),\n",
    "        (\"cat\", OneHotEncoder(handle_unknown=\"ignore\"), categorical_col)\n",
    "    ]\n",
    ")\n",
    "\n",
    "# Split data\n",
    "\n",
    "X_train, X_test, y_train, y_test = train_test_split(X, y, test_size=0.3, random_state = rv)\n",
    "\n",
    "\n",
    "# Pipeline\n",
    "\n",
    "clf = Pipeline(steps= [\n",
    "    (\"preprocessor\", preprocessor),\n",
    "    (\"model\", RandomForestClassifier(random_state=rv))\n",
    "])"
   ]
  },
  {
   "cell_type": "code",
   "execution_count": 13,
   "id": "16e5cbed",
   "metadata": {},
   "outputs": [
    {
     "name": "stdout",
     "output_type": "stream",
     "text": [
      "Train accuracy: 1.0\n",
      "Test accuracy: 0.9992478180238364\n"
     ]
    }
   ],
   "source": [
    "clf.fit(X_train, y_train)\n",
    "\n",
    "print(\"Train accuracy:\", clf.score(X_train, y_train))\n",
    "print(\"Test accuracy:\", clf.score(X_test, y_test))"
   ]
  },
  {
   "cell_type": "code",
   "execution_count": 14,
   "id": "1e6c27ed",
   "metadata": {},
   "outputs": [
    {
     "name": "stdout",
     "output_type": "stream",
     "text": [
      "EV Type\n",
      "1    0.796259\n",
      "0    0.203741\n",
      "Name: proportion, dtype: float64\n"
     ]
    }
   ],
   "source": [
    "print(y.value_counts(normalize=True))"
   ]
  },
  {
   "cell_type": "code",
   "execution_count": 16,
   "id": "28187470",
   "metadata": {},
   "outputs": [
    {
     "name": "stdout",
     "output_type": "stream",
     "text": [
      "Train accuracy: 0.9981046921375293\n",
      "Test accuracy: 0.9975748615596104\n"
     ]
    }
   ],
   "source": [
    "# KNN\n",
    "\n",
    "knn = Pipeline(steps= [\n",
    "    (\"preprocessor\", preprocessor),\n",
    "    (\"knn_model\", KNeighborsClassifier(n_neighbors=6))])\n",
    "\n",
    "knn.fit(X_train, y_train)\n",
    "\n",
    "print(\"Train accuracy:\", knn.score(X_train, y_train))\n",
    "print(\"Test accuracy:\", knn.score(X_test, y_test))"
   ]
  },
  {
   "cell_type": "code",
   "execution_count": 17,
   "id": "d68ce9e1",
   "metadata": {},
   "outputs": [],
   "source": [
    "y_pred = clf.predict(X_test)\n",
    "knn_pred = knn.predict(X_test)"
   ]
  },
  {
   "cell_type": "code",
   "execution_count": 19,
   "id": "12d786a7",
   "metadata": {},
   "outputs": [
    {
     "name": "stdout",
     "output_type": "stream",
     "text": [
      "              precision    recall  f1-score   support\n",
      "\n",
      "           0       1.00      1.00      1.00     15539\n",
      "           1       1.00      1.00      1.00     61570\n",
      "\n",
      "    accuracy                           1.00     77109\n",
      "   macro avg       1.00      1.00      1.00     77109\n",
      "weighted avg       1.00      1.00      1.00     77109\n",
      "\n"
     ]
    }
   ],
   "source": [
    "print(classification_report(y_test, y_pred))"
   ]
  },
  {
   "cell_type": "code",
   "execution_count": 20,
   "id": "0de11a02",
   "metadata": {},
   "outputs": [
    {
     "name": "stdout",
     "output_type": "stream",
     "text": [
      "              precision    recall  f1-score   support\n",
      "\n",
      "           0       0.99      1.00      0.99     15539\n",
      "           1       1.00      1.00      1.00     61570\n",
      "\n",
      "    accuracy                           1.00     77109\n",
      "   macro avg       0.99      1.00      1.00     77109\n",
      "weighted avg       1.00      1.00      1.00     77109\n",
      "\n"
     ]
    }
   ],
   "source": [
    "print(classification_report(y_test, knn_pred))"
   ]
  },
  {
   "cell_type": "code",
   "execution_count": 21,
   "id": "61b7ad20",
   "metadata": {},
   "outputs": [
    {
     "name": "stdout",
     "output_type": "stream",
     "text": [
      "num__Electric Range: 0.2126\n",
      "cat__CAFV_Eligibility unknown as battery range has not been researched: 0.1333\n",
      "cat__CAFV_Not eligible due to low battery range: 0.1254\n",
      "cat__Make_TESLA: 0.0573\n",
      "num__Model Year: 0.0544\n",
      "cat__CAFV_Clean Alternative Fuel Vehicle Eligible: 0.0478\n",
      "cat__Model_VOLT: 0.0281\n",
      "cat__Make_TOYOTA: 0.0255\n",
      "cat__Model_LEAF: 0.0193\n",
      "cat__Make_JEEP: 0.0182\n"
     ]
    }
   ],
   "source": [
    "# Identify key predictors that distinguish BEV from PHEV\n",
    "\n",
    "importances = clf.named_steps[\"model\"].feature_importances_\n",
    "feature_names = clf.named_steps[\"preprocessor\"].get_feature_names_out()\n",
    "sorted_idx = np.argsort(importances)[::-1]\n",
    "\n",
    "for i in sorted_idx[:10]:\n",
    "    print(f\"{feature_names[i]}: {importances[i]:.4f}\")"
   ]
  },
  {
   "cell_type": "code",
   "execution_count": 22,
   "id": "cfae1128",
   "metadata": {},
   "outputs": [
    {
     "name": "stderr",
     "output_type": "stream",
     "text": [
      "C:\\Users\\DELL\\AppData\\Local\\Temp\\ipykernel_1284\\886726554.py:10: FutureWarning: \n",
      "\n",
      "Passing `palette` without assigning `hue` is deprecated and will be removed in v0.14.0. Assign the `y` variable to `hue` and set `legend=False` for the same effect.\n",
      "\n",
      "  sns.barplot(data=feat_imp, x=\"Importance\", y=\"Feature\", palette=\"viridis\")\n"
     ]
    },
    {
     "data": {
      "image/png": "[encoded data removed]",
      "text/plain": [
       "<Figure size 1000x600 with 1 Axes>"
      ]
     },
     "metadata": {},
     "output_type": "display_data"
    }
   ],
   "source": [
    "# Get top 10 features and their importances into a DataFrame\n",
    "top_n = 10\n",
    "feat_imp = pd.DataFrame({\n",
    "    \"Feature\": [feature_names[i] for i in sorted_idx[:top_n]],\n",
    "    \"Importance\": [importances[i] for i in sorted_idx[:top_n]]\n",
    "})\n",
    "\n",
    "# Plot with seaborn\n",
    "plt.figure(figsize=(10,6))\n",
    "sns.barplot(data=feat_imp, x=\"Importance\", y=\"Feature\", palette=\"viridis\")\n",
    "plt.title(\"Top 10 Feature Importances for EV Type Classification\")\n",
    "plt.xlabel(\"Importance Score\")\n",
    "plt.ylabel(\"Feature\")\n",
    "plt.tight_layout()\n",
    "plt.show()"
   ]
  },
  {
   "cell_type": "code",
   "execution_count": 23,
   "id": "62a0ebee",
   "metadata": {},
   "outputs": [],
   "source": [
    "import pickle\n",
    "\n",
    "with open(\"rf_model.pkl\", \"wb\") as f:\n",
    "    pickle.dump(clf, f)\n"
   ]
  },
  {
   "cell_type": "code",
   "execution_count": 24,
   "id": "e6a87ca9",
   "metadata": {},
   "outputs": [],
   "source": [
    "with open(\"knn_model.pkl\", \"wb\") as f:\n",
    "    pickle.dump(knn, f)"
   ]
  },
  {
   "cell_type": "code",
   "execution_count": null,
   "id": "e7bcc410",
   "metadata": {},
   "outputs": [],
   "source": []
  }
 ],
 "metadata": {
  "kernelspec": {
   "display_name": "KV7006",
   "language": "python",
   "name": "python3"
  },
  "language_info": {
   "codemirror_mode": {
    "name": "ipython",
    "version": 3
   },
   "file_extension": ".py",
   "mimetype": "text/x-python",
   "name": "python",
   "nbconvert_exporter": "python",
   "pygments_lexer": "ipython3",
   "version": "3.10.18"
  }
 },
 "nbformat": 4,
 "nbformat_minor": 5
}
